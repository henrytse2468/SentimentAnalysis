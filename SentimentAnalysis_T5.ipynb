{
  "cells": [
    {
      "cell_type": "code",
      "execution_count": 1,
      "metadata": {
        "colab": {
          "base_uri": "https://localhost:8080/"
        },
        "id": "zZkSROnbzXeC",
        "outputId": "ad9c17da-5461-42d5-dd70-7be396c89075"
      },
      "outputs": [
        {
          "name": "stdout",
          "output_type": "stream",
          "text": [
            "zsh:1: no matches found: transformers[torch]\n"
          ]
        },
        {
          "name": "stdout",
          "output_type": "stream",
          "text": [
            "Requirement already satisfied: accelerate in /opt/homebrew/Caskroom/miniconda/base/lib/python3.11/site-packages (0.26.1)\n",
            "Requirement already satisfied: numpy>=1.17 in /opt/homebrew/Caskroom/miniconda/base/lib/python3.11/site-packages (from accelerate) (1.26.2)\n",
            "Requirement already satisfied: packaging>=20.0 in /opt/homebrew/Caskroom/miniconda/base/lib/python3.11/site-packages (from accelerate) (23.0)\n",
            "Requirement already satisfied: psutil in /opt/homebrew/Caskroom/miniconda/base/lib/python3.11/site-packages (from accelerate) (5.9.6)\n",
            "Requirement already satisfied: pyyaml in /opt/homebrew/Caskroom/miniconda/base/lib/python3.11/site-packages (from accelerate) (6.0.1)\n",
            "Requirement already satisfied: torch>=1.10.0 in /opt/homebrew/Caskroom/miniconda/base/lib/python3.11/site-packages (from accelerate) (2.1.2)\n",
            "Requirement already satisfied: huggingface-hub in /opt/homebrew/Caskroom/miniconda/base/lib/python3.11/site-packages (from accelerate) (0.20.2)\n",
            "Requirement already satisfied: safetensors>=0.3.1 in /opt/homebrew/Caskroom/miniconda/base/lib/python3.11/site-packages (from accelerate) (0.4.1)\n",
            "Requirement already satisfied: filelock in /opt/homebrew/Caskroom/miniconda/base/lib/python3.11/site-packages (from torch>=1.10.0->accelerate) (3.13.1)\n",
            "Requirement already satisfied: typing-extensions in /opt/homebrew/Caskroom/miniconda/base/lib/python3.11/site-packages (from torch>=1.10.0->accelerate) (4.8.0)\n",
            "Requirement already satisfied: sympy in /opt/homebrew/Caskroom/miniconda/base/lib/python3.11/site-packages (from torch>=1.10.0->accelerate) (1.12)\n",
            "Requirement already satisfied: networkx in /opt/homebrew/Caskroom/miniconda/base/lib/python3.11/site-packages (from torch>=1.10.0->accelerate) (3.2.1)\n",
            "Requirement already satisfied: jinja2 in /opt/homebrew/Caskroom/miniconda/base/lib/python3.11/site-packages (from torch>=1.10.0->accelerate) (3.1.3)\n",
            "Requirement already satisfied: fsspec in /opt/homebrew/Caskroom/miniconda/base/lib/python3.11/site-packages (from torch>=1.10.0->accelerate) (2023.10.0)\n",
            "Requirement already satisfied: requests in /opt/homebrew/Caskroom/miniconda/base/lib/python3.11/site-packages (from huggingface-hub->accelerate) (2.29.0)\n",
            "Requirement already satisfied: tqdm>=4.42.1 in /opt/homebrew/Caskroom/miniconda/base/lib/python3.11/site-packages (from huggingface-hub->accelerate) (4.65.0)\n",
            "Requirement already satisfied: MarkupSafe>=2.0 in /opt/homebrew/Caskroom/miniconda/base/lib/python3.11/site-packages (from jinja2->torch>=1.10.0->accelerate) (2.1.3)\n",
            "Requirement already satisfied: charset-normalizer<4,>=2 in /opt/homebrew/Caskroom/miniconda/base/lib/python3.11/site-packages (from requests->huggingface-hub->accelerate) (2.0.4)\n",
            "Requirement already satisfied: idna<4,>=2.5 in /opt/homebrew/Caskroom/miniconda/base/lib/python3.11/site-packages (from requests->huggingface-hub->accelerate) (3.4)\n",
            "Requirement already satisfied: urllib3<1.27,>=1.21.1 in /opt/homebrew/Caskroom/miniconda/base/lib/python3.11/site-packages (from requests->huggingface-hub->accelerate) (1.26.16)\n",
            "Requirement already satisfied: certifi>=2017.4.17 in /opt/homebrew/Caskroom/miniconda/base/lib/python3.11/site-packages (from requests->huggingface-hub->accelerate) (2023.5.7)\n",
            "Requirement already satisfied: mpmath>=0.19 in /opt/homebrew/Caskroom/miniconda/base/lib/python3.11/site-packages (from sympy->torch>=1.10.0->accelerate) (1.3.0)\n",
            "Requirement already satisfied: datasets in /opt/homebrew/Caskroom/miniconda/base/lib/python3.11/site-packages (2.16.1)\n",
            "Requirement already satisfied: filelock in /opt/homebrew/Caskroom/miniconda/base/lib/python3.11/site-packages (from datasets) (3.13.1)\n",
            "Requirement already satisfied: numpy>=1.17 in /opt/homebrew/Caskroom/miniconda/base/lib/python3.11/site-packages (from datasets) (1.26.2)\n",
            "Requirement already satisfied: pyarrow>=8.0.0 in /opt/homebrew/Caskroom/miniconda/base/lib/python3.11/site-packages (from datasets) (14.0.1)\n",
            "Requirement already satisfied: pyarrow-hotfix in /opt/homebrew/Caskroom/miniconda/base/lib/python3.11/site-packages (from datasets) (0.6)\n",
            "Requirement already satisfied: dill<0.3.8,>=0.3.0 in /opt/homebrew/Caskroom/miniconda/base/lib/python3.11/site-packages (from datasets) (0.3.7)\n",
            "Requirement already satisfied: pandas in /opt/homebrew/Caskroom/miniconda/base/lib/python3.11/site-packages (from datasets) (2.1.3)\n",
            "Requirement already satisfied: requests>=2.19.0 in /opt/homebrew/Caskroom/miniconda/base/lib/python3.11/site-packages (from datasets) (2.29.0)\n",
            "Requirement already satisfied: tqdm>=4.62.1 in /opt/homebrew/Caskroom/miniconda/base/lib/python3.11/site-packages (from datasets) (4.65.0)\n",
            "Requirement already satisfied: xxhash in /opt/homebrew/Caskroom/miniconda/base/lib/python3.11/site-packages (from datasets) (3.4.1)\n",
            "Requirement already satisfied: multiprocess in /opt/homebrew/Caskroom/miniconda/base/lib/python3.11/site-packages (from datasets) (0.70.15)\n",
            "Requirement already satisfied: fsspec[http]<=2023.10.0,>=2023.1.0 in /opt/homebrew/Caskroom/miniconda/base/lib/python3.11/site-packages (from datasets) (2023.10.0)\n",
            "Requirement already satisfied: aiohttp in /opt/homebrew/Caskroom/miniconda/base/lib/python3.11/site-packages (from datasets) (3.9.1)\n",
            "Requirement already satisfied: huggingface-hub>=0.19.4 in /opt/homebrew/Caskroom/miniconda/base/lib/python3.11/site-packages (from datasets) (0.20.2)\n",
            "Requirement already satisfied: packaging in /opt/homebrew/Caskroom/miniconda/base/lib/python3.11/site-packages (from datasets) (23.0)\n",
            "Requirement already satisfied: pyyaml>=5.1 in /opt/homebrew/Caskroom/miniconda/base/lib/python3.11/site-packages (from datasets) (6.0.1)\n",
            "Requirement already satisfied: attrs>=17.3.0 in /opt/homebrew/Caskroom/miniconda/base/lib/python3.11/site-packages (from aiohttp->datasets) (23.1.0)\n",
            "Requirement already satisfied: multidict<7.0,>=4.5 in /opt/homebrew/Caskroom/miniconda/base/lib/python3.11/site-packages (from aiohttp->datasets) (6.0.4)\n",
            "Requirement already satisfied: yarl<2.0,>=1.0 in /opt/homebrew/Caskroom/miniconda/base/lib/python3.11/site-packages (from aiohttp->datasets) (1.9.4)\n",
            "Requirement already satisfied: frozenlist>=1.1.1 in /opt/homebrew/Caskroom/miniconda/base/lib/python3.11/site-packages (from aiohttp->datasets) (1.4.1)\n",
            "Requirement already satisfied: aiosignal>=1.1.2 in /opt/homebrew/Caskroom/miniconda/base/lib/python3.11/site-packages (from aiohttp->datasets) (1.3.1)\n",
            "Requirement already satisfied: typing-extensions>=3.7.4.3 in /opt/homebrew/Caskroom/miniconda/base/lib/python3.11/site-packages (from huggingface-hub>=0.19.4->datasets) (4.8.0)\n",
            "Requirement already satisfied: charset-normalizer<4,>=2 in /opt/homebrew/Caskroom/miniconda/base/lib/python3.11/site-packages (from requests>=2.19.0->datasets) (2.0.4)\n",
            "Requirement already satisfied: idna<4,>=2.5 in /opt/homebrew/Caskroom/miniconda/base/lib/python3.11/site-packages (from requests>=2.19.0->datasets) (3.4)\n",
            "Requirement already satisfied: urllib3<1.27,>=1.21.1 in /opt/homebrew/Caskroom/miniconda/base/lib/python3.11/site-packages (from requests>=2.19.0->datasets) (1.26.16)\n",
            "Requirement already satisfied: certifi>=2017.4.17 in /opt/homebrew/Caskroom/miniconda/base/lib/python3.11/site-packages (from requests>=2.19.0->datasets) (2023.5.7)\n",
            "Requirement already satisfied: python-dateutil>=2.8.2 in /opt/homebrew/Caskroom/miniconda/base/lib/python3.11/site-packages (from pandas->datasets) (2.8.2)\n",
            "Requirement already satisfied: pytz>=2020.1 in /opt/homebrew/Caskroom/miniconda/base/lib/python3.11/site-packages (from pandas->datasets) (2023.3.post1)\n",
            "Requirement already satisfied: tzdata>=2022.1 in /opt/homebrew/Caskroom/miniconda/base/lib/python3.11/site-packages (from pandas->datasets) (2023.3)\n",
            "Requirement already satisfied: six>=1.5 in /opt/homebrew/Caskroom/miniconda/base/lib/python3.11/site-packages (from python-dateutil>=2.8.2->pandas->datasets) (1.16.0)\n"
          ]
        }
      ],
      "source": [
        "!pip install transformers[torch]\n",
        "!pip install accelerate -U\n",
        "!pip install datasets"
      ]
    },
    {
      "cell_type": "code",
      "execution_count": 2,
      "metadata": {
        "id": "fz-86F_Ppzu6"
      },
      "outputs": [
        {
          "name": "stderr",
          "output_type": "stream",
          "text": [
            "/opt/homebrew/Caskroom/miniconda/base/lib/python3.11/site-packages/tqdm/auto.py:21: TqdmWarning: IProgress not found. Please update jupyter and ipywidgets. See https://ipywidgets.readthedocs.io/en/stable/user_install.html\n",
            "  from .autonotebook import tqdm as notebook_tqdm\n"
          ]
        }
      ],
      "source": [
        "import tensorflow as tf\n",
        "import numpy as np\n",
        "import pandas as pd\n",
        "import matplotlib.pyplot as plt\n",
        "from tensorflow.keras.preprocessing.text import Tokenizer\n",
        "from tensorflow.keras.preprocessing.sequence import pad_sequences\n",
        "import tensorflow as tf\n",
        "from transformers import T5Tokenizer, T5ForSequenceClassification\n",
        "from sklearn.metrics import accuracy_score\n",
        "\n"
      ]
    },
    {
      "cell_type": "code",
      "execution_count": 3,
      "metadata": {
        "colab": {
          "base_uri": "https://localhost:8080/"
        },
        "id": "ts9mWdky0mdf",
        "outputId": "8fef083e-9d1c-48f3-a9fb-dc250f5ffb26"
      },
      "outputs": [
        {
          "data": {
            "text/plain": [
              "text     False\n",
              "label    False\n",
              "dtype: bool"
            ]
          },
          "execution_count": 3,
          "metadata": {},
          "output_type": "execute_result"
        }
      ],
      "source": [
        "train = pd.read_csv('./training.csv')\n",
        "\n",
        "train.isna().any()"
      ]
    },
    {
      "cell_type": "code",
      "execution_count": 4,
      "metadata": {
        "colab": {
          "base_uri": "https://localhost:8080/"
        },
        "id": "ZboXUXVx0nQF",
        "outputId": "4b3f07d4-c53d-472b-9e54-1cf877df3ba1"
      },
      "outputs": [
        {
          "name": "stdout",
          "output_type": "stream",
          "text": [
            "Before undersampling: Counter({1: 5362, 0: 4666, 3: 2159, 4: 1937, 2: 1304, 5: 572})\n",
            "Class to OverSample:  {3: 3000, 2: 3000, 5: 3000, 4: 3000}\n",
            "Class to UnderSample:  {0: 3000, 1: 3000}\n",
            "After Oversample: Counter({1: 5362, 0: 4666, 3: 3000, 2: 3000, 5: 3000, 4: 3000})\n",
            "After Undersample: Counter({0: 3000, 1: 3000, 2: 3000, 3: 3000, 4: 3000, 5: 3000})\n"
          ]
        }
      ],
      "source": [
        "from imblearn.over_sampling import RandomOverSampler\n",
        "from imblearn.under_sampling import RandomUnderSampler\n",
        "from collections import Counter\n",
        "\n",
        "print(\"Before undersampling:\", Counter(train['label']))\n",
        "\n",
        "class_counts = Counter(train['label'])\n",
        "\n",
        "# Set the target number of samples per class\n",
        "target_samples = 3000\n",
        "\n",
        "# Determine classes needing oversampling and undersampling\n",
        "classes_to_resample = {cls: target_samples for cls, count in class_counts.items() if count < target_samples}\n",
        "classes_to_keep = {cls: target_samples for cls, count in class_counts.items() if count >= target_samples}\n",
        "print('Class to OverSample: ', classes_to_resample)\n",
        "print(\"Class to UnderSample: \", classes_to_keep)\n",
        "# Oversample minority classes\n",
        "oversampler = RandomOverSampler(sampling_strategy=classes_to_resample)\n",
        "\n",
        "# Undersample majority classes\n",
        "undersampler = RandomUnderSampler(sampling_strategy=classes_to_keep)\n",
        "\n",
        "\n",
        "train_text_resampled, train_labels_resampled = oversampler.fit_resample(np.array(train['text']).reshape(-1,1), train['label'])\n",
        "\n",
        "print('After Oversample:' , Counter(train_labels_resampled))\n",
        "\n",
        "train_text_resampled, train_labels_resampled = undersampler.fit_resample(train_text_resampled, train_labels_resampled)\n",
        "\n",
        "# Check the class distribution after resampling\n",
        "print('After Undersample:', Counter(train_labels_resampled))"
      ]
    },
    {
      "cell_type": "code",
      "execution_count": 5,
      "metadata": {
        "id": "-3z0DaUC1_tQ"
      },
      "outputs": [],
      "source": [
        "from sklearn.model_selection import train_test_split\n",
        "train_labels_resampled = np.array(train_labels_resampled)\n",
        "X_train, X_temp, y_train, y_temp = train_test_split(train_text_resampled,train_labels_resampled,test_size=0.3,random_state=42)\n",
        "X_val, X_test, y_val,y_test =  train_test_split(X_temp,y_temp,test_size=0.5, random_state=42)"
      ]
    },
    {
      "cell_type": "code",
      "execution_count": 6,
      "metadata": {
        "colab": {
          "base_uri": "https://localhost:8080/"
        },
        "id": "MblRiOHfxBBB",
        "outputId": "2438aaf7-d1a7-471a-90c4-78f7e4599604"
      },
      "outputs": [
        {
          "name": "stdout",
          "output_type": "stream",
          "text": [
            "Requirement already satisfied: sentencepiece in /opt/homebrew/Caskroom/miniconda/base/lib/python3.11/site-packages (0.1.99)\n"
          ]
        }
      ],
      "source": [
        "!pip install sentencepiece"
      ]
    },
    {
      "cell_type": "code",
      "execution_count": 7,
      "metadata": {
        "colab": {
          "base_uri": "https://localhost:8080/"
        },
        "id": "93JZ1HNe1VHQ",
        "outputId": "7d1b677c-2003-4090-84f6-98b20fa66c85"
      },
      "outputs": [
        {
          "name": "stderr",
          "output_type": "stream",
          "text": [
            "You are using the default legacy behaviour of the <class 'transformers.models.t5.tokenization_t5.T5Tokenizer'>. This is expected, and simply means that the `legacy` (previous) behavior will be used so nothing changes for you. If you want to use the new behaviour, set `legacy=False`. This should only be set if you understand what it means, and thouroughly read the reason why this was added as explained in https://github.com/huggingface/transformers/pull/24565\n",
            "Special tokens have been added in the vocabulary, make sure the associated word embeddings are fine-tuned or trained.\n"
          ]
        }
      ],
      "source": [
        "tokenizer = T5Tokenizer.from_pretrained('t5-small')"
      ]
    },
    {
      "cell_type": "code",
      "execution_count": 8,
      "metadata": {
        "id": "F0g5Wm73qgSJ"
      },
      "outputs": [],
      "source": [
        "def tokenize(data):\n",
        "  data = [sentence[0] for sentence in data]\n",
        "  tokenized_data = tokenizer.batch_encode_plus(data,\n",
        "                                             max_length=50,\n",
        "                                            padding=True,\n",
        "                                             truncation=True,\n",
        "                                             return_tensors='pt')\n",
        "  return tokenized_data\n",
        "\n",
        "\n",
        "\n",
        "tokenized_data_train = tokenize(X_train)\n",
        "tokenized_data_val = tokenize(X_val)\n",
        "tokenized_data_test =  tokenize(X_test)"
      ]
    },
    {
      "cell_type": "code",
      "execution_count": 9,
      "metadata": {
        "colab": {
          "base_uri": "https://localhost:8080/"
        },
        "id": "DB5V8r00QtUo",
        "outputId": "3c313a22-e010-4775-fb02-11c40bd999d1"
      },
      "outputs": [
        {
          "name": "stdout",
          "output_type": "stream",
          "text": [
            "{'input_ids': tensor([[   3,   23, 3666,  ...,    0,    0,    0],\n",
            "        [ 256, 1852,   59,  ...,    0,    0,    0],\n",
            "        [   3,   23, 3337,  ...,    0,    0,    0],\n",
            "        ...,\n",
            "        [ 256,   16,    3,  ...,    0,    0,    0],\n",
            "        [   3,   23, 2299,  ...,    0,    0,    0],\n",
            "        [ 256, 2787,   21,  ...,    0,    0,    0]]), 'attention_mask': tensor([[1, 1, 1,  ..., 0, 0, 0],\n",
            "        [1, 1, 1,  ..., 0, 0, 0],\n",
            "        [1, 1, 1,  ..., 0, 0, 0],\n",
            "        ...,\n",
            "        [1, 1, 1,  ..., 0, 0, 0],\n",
            "        [1, 1, 1,  ..., 0, 0, 0],\n",
            "        [1, 1, 1,  ..., 0, 0, 0]])}\n"
          ]
        }
      ],
      "source": [
        "print(tokenized_data_train)"
      ]
    },
    {
      "cell_type": "code",
      "execution_count": 10,
      "metadata": {
        "id": "LU9KD-pssO6y"
      },
      "outputs": [],
      "source": [
        "import torch\n",
        "from torch.utils.data import Dataset\n",
        "\n",
        "class CustomDataset(Dataset):\n",
        "    def __init__(self, data_dict, labels):\n",
        "        self.input_ids = data_dict['input_ids']\n",
        "        self.attention_mask = data_dict['attention_mask']\n",
        "        self.labels = torch.tensor(labels, dtype=torch.long)\n",
        "\n",
        "    def __len__(self):\n",
        "        return len(self.labels)\n",
        "\n",
        "    def __getitem__(self, index):\n",
        "        return {\n",
        "            'input_ids': self.input_ids[index],\n",
        "            'attention_mask': self.attention_mask[index],\n",
        "            'labels': self.labels[index]\n",
        "        }\n",
        "\n",
        "# Assuming data_dict is your dictionary and labels is your array of labels\n",
        "train_dataset = CustomDataset(tokenized_data_train, y_train)\n",
        "\n",
        "val_dataset = CustomDataset(tokenized_data_val, y_val)\n",
        "\n",
        "test_dataset = CustomDataset(tokenized_data_test, y_test)\n"
      ]
    },
    {
      "cell_type": "code",
      "execution_count": 11,
      "metadata": {
        "colab": {
          "base_uri": "https://localhost:8080/"
        },
        "id": "45VRuO7pqAhl",
        "outputId": "0cd1c1c3-d13b-420e-fae6-f80b35a7d6fb"
      },
      "outputs": [
        {
          "name": "stderr",
          "output_type": "stream",
          "text": [
            "Some weights of T5ForSequenceClassification were not initialized from the model checkpoint at t5-small and are newly initialized: ['classification_head.out_proj.weight', 'classification_head.dense.bias', 'classification_head.dense.weight', 'classification_head.out_proj.bias']\n",
            "You should probably TRAIN this model on a down-stream task to be able to use it for predictions and inference.\n"
          ]
        }
      ],
      "source": [
        "#model = T5ForSequenceClassification.from_pretrained('./t5-small.h5', num_labels=6)\n",
        "model = T5ForSequenceClassification.from_pretrained('t5-small', num_labels=6)\n",
        "#model.save_pretrained(\"./t5-small.h5\")"
      ]
    },
    {
      "cell_type": "code",
      "execution_count": 12,
      "metadata": {
        "id": "_PziY-Wk_dVK"
      },
      "outputs": [],
      "source": [
        "from datasets import load_metric\n",
        "from transformers import TrainerCallback\n",
        "from copy import deepcopy\n",
        "\n",
        "from transformers import TrainerCallback, Trainer"
      ]
    },
    {
      "cell_type": "code",
      "execution_count": 13,
      "metadata": {
        "id": "ihAGnaAty4R6"
      },
      "outputs": [
        {
          "name": "stderr",
          "output_type": "stream",
          "text": [
            "                                                  \n",
            "  5%|▌         | 126/2520 [02:38<47:07,  1.18s/it]Checkpoint destination directory ./logs/checkpoint-126 already exists and is non-empty.Saving will proceed but saved results may be invalid.\n"
          ]
        },
        {
          "name": "stdout",
          "output_type": "stream",
          "text": [
            "{'eval_loss': 1.7629653215408325, 'eval_runtime': 8.8448, 'eval_samples_per_second': 305.265, 'eval_steps_per_second': 3.053, 'epoch': 1.0}\n"
          ]
        },
        {
          "name": "stderr",
          "output_type": "stream",
          "text": [
            "                                                    \n",
            " 10%|█         | 252/2520 [05:16<44:42,  1.18s/it]Checkpoint destination directory ./logs/checkpoint-252 already exists and is non-empty.Saving will proceed but saved results may be invalid.\n"
          ]
        },
        {
          "name": "stdout",
          "output_type": "stream",
          "text": [
            "{'eval_loss': 1.6873412132263184, 'eval_runtime': 8.5317, 'eval_samples_per_second': 316.466, 'eval_steps_per_second': 3.165, 'epoch': 2.0}\n"
          ]
        },
        {
          "name": "stderr",
          "output_type": "stream",
          "text": [
            "                                                    \n",
            " 15%|█▌        | 378/2520 [07:56<42:24,  1.19s/it]Checkpoint destination directory ./logs/checkpoint-378 already exists and is non-empty.Saving will proceed but saved results may be invalid.\n"
          ]
        },
        {
          "name": "stdout",
          "output_type": "stream",
          "text": [
            "{'eval_loss': 1.492011547088623, 'eval_runtime': 8.6709, 'eval_samples_per_second': 311.386, 'eval_steps_per_second': 3.114, 'epoch': 3.0}\n"
          ]
        },
        {
          "name": "stderr",
          "output_type": "stream",
          "text": [
            " 20%|█▉        | 500/2520 [10:22<40:09,  1.19s/it]  "
          ]
        },
        {
          "name": "stdout",
          "output_type": "stream",
          "text": [
            "{'loss': 1.6652, 'learning_rate': 1.6031746031746033e-05, 'epoch': 3.97}\n"
          ]
        },
        {
          "name": "stderr",
          "output_type": "stream",
          "text": [
            "                                                  \n",
            " 20%|██        | 504/2520 [10:35<40:03,  1.19s/it]Checkpoint destination directory ./logs/checkpoint-504 already exists and is non-empty.Saving will proceed but saved results may be invalid.\n"
          ]
        },
        {
          "name": "stdout",
          "output_type": "stream",
          "text": [
            "{'eval_loss': 1.2521334886550903, 'eval_runtime': 8.784, 'eval_samples_per_second': 307.376, 'eval_steps_per_second': 3.074, 'epoch': 4.0}\n"
          ]
        },
        {
          "name": "stderr",
          "output_type": "stream",
          "text": [
            "                                                    \n",
            " 25%|██▌       | 630/2520 [13:16<37:31,  1.19s/it]Checkpoint destination directory ./logs/checkpoint-630 already exists and is non-empty.Saving will proceed but saved results may be invalid.\n"
          ]
        },
        {
          "name": "stdout",
          "output_type": "stream",
          "text": [
            "{'eval_loss': 1.0734816789627075, 'eval_runtime': 8.7125, 'eval_samples_per_second': 309.9, 'eval_steps_per_second': 3.099, 'epoch': 5.0}\n"
          ]
        },
        {
          "name": "stderr",
          "output_type": "stream",
          "text": [
            "                                                    \n",
            " 30%|███       | 756/2520 [15:55<34:56,  1.19s/it]Checkpoint destination directory ./logs/checkpoint-756 already exists and is non-empty.Saving will proceed but saved results may be invalid.\n"
          ]
        },
        {
          "name": "stdout",
          "output_type": "stream",
          "text": [
            "{'eval_loss': 0.9378886222839355, 'eval_runtime': 8.7121, 'eval_samples_per_second': 309.912, 'eval_steps_per_second': 3.099, 'epoch': 6.0}\n"
          ]
        },
        {
          "name": "stderr",
          "output_type": "stream",
          "text": [
            "                                                    \n",
            " 35%|███▌      | 882/2520 [18:35<32:08,  1.18s/it]Checkpoint destination directory ./logs/checkpoint-882 already exists and is non-empty.Saving will proceed but saved results may be invalid.\n"
          ]
        },
        {
          "name": "stdout",
          "output_type": "stream",
          "text": [
            "{'eval_loss': 0.8398191332817078, 'eval_runtime': 8.4463, 'eval_samples_per_second': 319.667, 'eval_steps_per_second': 3.197, 'epoch': 7.0}\n"
          ]
        },
        {
          "name": "stderr",
          "output_type": "stream",
          "text": [
            " 40%|███▉      | 1000/2520 [20:56<29:52,  1.18s/it] "
          ]
        },
        {
          "name": "stdout",
          "output_type": "stream",
          "text": [
            "{'loss': 1.0576, 'learning_rate': 1.2063492063492064e-05, 'epoch': 7.94}\n"
          ]
        },
        {
          "name": "stderr",
          "output_type": "stream",
          "text": [
            "                                                   \n",
            " 40%|████      | 1008/2520 [21:13<29:39,  1.18s/it]Checkpoint destination directory ./logs/checkpoint-1008 already exists and is non-empty.Saving will proceed but saved results may be invalid.\n"
          ]
        },
        {
          "name": "stdout",
          "output_type": "stream",
          "text": [
            "{'eval_loss': 0.7607608437538147, 'eval_runtime': 8.3388, 'eval_samples_per_second': 323.786, 'eval_steps_per_second': 3.238, 'epoch': 8.0}\n"
          ]
        },
        {
          "name": "stderr",
          "output_type": "stream",
          "text": [
            "                                                     \n",
            " 45%|████▌     | 1134/2520 [23:52<28:00,  1.21s/it]Checkpoint destination directory ./logs/checkpoint-1134 already exists and is non-empty.Saving will proceed but saved results may be invalid.\n"
          ]
        },
        {
          "name": "stdout",
          "output_type": "stream",
          "text": [
            "{'eval_loss': 0.701603889465332, 'eval_runtime': 8.6621, 'eval_samples_per_second': 311.703, 'eval_steps_per_second': 3.117, 'epoch': 9.0}\n"
          ]
        },
        {
          "name": "stderr",
          "output_type": "stream",
          "text": [
            "                                                     \n",
            " 50%|█████     | 1260/2520 [26:30<24:47,  1.18s/it]Checkpoint destination directory ./logs/checkpoint-1260 already exists and is non-empty.Saving will proceed but saved results may be invalid.\n"
          ]
        },
        {
          "name": "stdout",
          "output_type": "stream",
          "text": [
            "{'eval_loss': 0.6509642601013184, 'eval_runtime': 8.3577, 'eval_samples_per_second': 323.056, 'eval_steps_per_second': 3.231, 'epoch': 10.0}\n"
          ]
        },
        {
          "name": "stderr",
          "output_type": "stream",
          "text": [
            "                                                     \n",
            " 55%|█████▌    | 1386/2520 [29:09<22:20,  1.18s/it]Checkpoint destination directory ./logs/checkpoint-1386 already exists and is non-empty.Saving will proceed but saved results may be invalid.\n"
          ]
        },
        {
          "name": "stdout",
          "output_type": "stream",
          "text": [
            "{'eval_loss': 0.6128069758415222, 'eval_runtime': 8.3571, 'eval_samples_per_second': 323.08, 'eval_steps_per_second': 3.231, 'epoch': 11.0}\n"
          ]
        },
        {
          "name": "stderr",
          "output_type": "stream",
          "text": [
            " 60%|█████▉    | 1500/2520 [31:25<20:02,  1.18s/it]  "
          ]
        },
        {
          "name": "stdout",
          "output_type": "stream",
          "text": [
            "{'loss': 0.7476, 'learning_rate': 8.095238095238097e-06, 'epoch': 11.9}\n"
          ]
        },
        {
          "name": "stderr",
          "output_type": "stream",
          "text": [
            "                                                   \n",
            " 60%|██████    | 1512/2520 [31:47<19:55,  1.19s/it]Checkpoint destination directory ./logs/checkpoint-1512 already exists and is non-empty.Saving will proceed but saved results may be invalid.\n"
          ]
        },
        {
          "name": "stdout",
          "output_type": "stream",
          "text": [
            "{'eval_loss': 0.5808020830154419, 'eval_runtime': 8.6403, 'eval_samples_per_second': 312.487, 'eval_steps_per_second': 3.125, 'epoch': 12.0}\n"
          ]
        },
        {
          "name": "stderr",
          "output_type": "stream",
          "text": [
            "                                                     \n",
            " 65%|██████▌   | 1638/2520 [34:27<17:24,  1.18s/it]Checkpoint destination directory ./logs/checkpoint-1638 already exists and is non-empty.Saving will proceed but saved results may be invalid.\n"
          ]
        },
        {
          "name": "stdout",
          "output_type": "stream",
          "text": [
            "{'eval_loss': 0.5540368556976318, 'eval_runtime': 8.7368, 'eval_samples_per_second': 309.038, 'eval_steps_per_second': 3.09, 'epoch': 13.0}\n"
          ]
        },
        {
          "name": "stderr",
          "output_type": "stream",
          "text": [
            "                                                     \n",
            " 70%|███████   | 1764/2520 [37:13<14:57,  1.19s/it]Checkpoint destination directory ./logs/checkpoint-1764 already exists and is non-empty.Saving will proceed but saved results may be invalid.\n"
          ]
        },
        {
          "name": "stdout",
          "output_type": "stream",
          "text": [
            "{'eval_loss': 0.5323395729064941, 'eval_runtime': 8.4499, 'eval_samples_per_second': 319.532, 'eval_steps_per_second': 3.195, 'epoch': 14.0}\n"
          ]
        },
        {
          "name": "stderr",
          "output_type": "stream",
          "text": [
            "                                                   \n",
            " 75%|███████▌  | 1890/2520 [39:53<12:35,  1.20s/it]Checkpoint destination directory ./logs/checkpoint-1890 already exists and is non-empty.Saving will proceed but saved results may be invalid.\n"
          ]
        },
        {
          "name": "stdout",
          "output_type": "stream",
          "text": [
            "{'eval_loss': 0.5135337114334106, 'eval_runtime': 8.6408, 'eval_samples_per_second': 312.472, 'eval_steps_per_second': 3.125, 'epoch': 15.0}\n"
          ]
        },
        {
          "name": "stderr",
          "output_type": "stream",
          "text": [
            " 79%|███████▉  | 2000/2520 [42:07<10:30,  1.21s/it]"
          ]
        },
        {
          "name": "stdout",
          "output_type": "stream",
          "text": [
            "{'loss': 0.6125, 'learning_rate': 4.126984126984127e-06, 'epoch': 15.87}\n"
          ]
        },
        {
          "name": "stderr",
          "output_type": "stream",
          "text": [
            "                                                   \n",
            " 80%|████████  | 2016/2520 [42:35<10:07,  1.20s/it]Checkpoint destination directory ./logs/checkpoint-2016 already exists and is non-empty.Saving will proceed but saved results may be invalid.\n"
          ]
        },
        {
          "name": "stdout",
          "output_type": "stream",
          "text": [
            "{'eval_loss': 0.5003517866134644, 'eval_runtime': 9.0205, 'eval_samples_per_second': 299.32, 'eval_steps_per_second': 2.993, 'epoch': 16.0}\n"
          ]
        },
        {
          "name": "stderr",
          "output_type": "stream",
          "text": [
            "                                                   \n",
            " 85%|████████▌ | 2142/2520 [45:18<07:31,  1.19s/it]"
          ]
        },
        {
          "name": "stdout",
          "output_type": "stream",
          "text": [
            "{'eval_loss': 0.489711731672287, 'eval_runtime': 8.7961, 'eval_samples_per_second': 306.954, 'eval_steps_per_second': 3.07, 'epoch': 17.0}\n"
          ]
        },
        {
          "name": "stderr",
          "output_type": "stream",
          "text": [
            "                                                   \n",
            " 90%|█████████ | 2268/2520 [48:02<04:58,  1.18s/it]"
          ]
        },
        {
          "name": "stdout",
          "output_type": "stream",
          "text": [
            "{'eval_loss': 0.4822883605957031, 'eval_runtime': 8.6632, 'eval_samples_per_second': 311.663, 'eval_steps_per_second': 3.117, 'epoch': 18.0}\n"
          ]
        },
        {
          "name": "stderr",
          "output_type": "stream",
          "text": [
            "                                                   \n",
            " 95%|█████████▌| 2394/2520 [50:43<02:31,  1.20s/it]"
          ]
        },
        {
          "name": "stdout",
          "output_type": "stream",
          "text": [
            "{'eval_loss': 0.4781828224658966, 'eval_runtime': 8.7173, 'eval_samples_per_second': 309.731, 'eval_steps_per_second': 3.097, 'epoch': 19.0}\n"
          ]
        },
        {
          "name": "stderr",
          "output_type": "stream",
          "text": [
            " 99%|█████████▉| 2500/2520 [52:54<00:23,  1.18s/it]"
          ]
        },
        {
          "name": "stdout",
          "output_type": "stream",
          "text": [
            "{'loss': 0.5589, 'learning_rate': 1.5873015873015874e-07, 'epoch': 19.84}\n"
          ]
        },
        {
          "name": "stderr",
          "output_type": "stream",
          "text": [
            "                                                   \n",
            "100%|██████████| 2520/2520 [53:26<00:00,  1.19s/it]"
          ]
        },
        {
          "name": "stdout",
          "output_type": "stream",
          "text": [
            "{'eval_loss': 0.4769679009914398, 'eval_runtime': 8.6576, 'eval_samples_per_second': 311.865, 'eval_steps_per_second': 3.119, 'epoch': 20.0}\n"
          ]
        },
        {
          "name": "stderr",
          "output_type": "stream",
          "text": [
            "There were missing keys in the checkpoint model loaded: ['transformer.encoder.embed_tokens.weight', 'transformer.decoder.embed_tokens.weight'].\n",
            "100%|██████████| 2520/2520 [53:28<00:00,  1.27s/it]\n"
          ]
        },
        {
          "name": "stdout",
          "output_type": "stream",
          "text": [
            "{'train_runtime': 3208.3497, 'train_samples_per_second': 78.545, 'train_steps_per_second': 0.785, 'train_loss': 0.9254221666426886, 'epoch': 20.0}\n"
          ]
        },
        {
          "name": "stderr",
          "output_type": "stream",
          "text": [
            "100%|██████████| 27/27 [00:08<00:00,  3.23it/s]\n"
          ]
        },
        {
          "data": {
            "text/plain": [
              "{'eval_loss': 1.761282205581665,\n",
              " 'eval_runtime': 8.6806,\n",
              " 'eval_samples_per_second': 311.037,\n",
              " 'eval_steps_per_second': 3.11,\n",
              " 'epoch': 20.0}"
            ]
          },
          "execution_count": 13,
          "metadata": {},
          "output_type": "execute_result"
        }
      ],
      "source": [
        "from transformers import Trainer, TrainingArguments, default_data_collator\n",
        "from transformers.trainer_callback import DefaultFlowCallback\n",
        "from transformers import EarlyStoppingCallback, IntervalStrategy\n",
        "\n",
        "# Step 5: Define training arguments\n",
        "training_args = TrainingArguments(\n",
        "    per_device_train_batch_size=100,\n",
        "    per_device_eval_batch_size=100,\n",
        "    num_train_epochs=20,\n",
        "    evaluation_strategy=\"epoch\",\n",
        "    output_dir=\"./logs\",\n",
        "    learning_rate=2e-5,\n",
        "    load_best_model_at_end = True,\n",
        "    save_strategy=\"epoch\",\n",
        "    metric_for_best_model=\"eval_loss\",\n",
        "    greater_is_better=True\n",
        ")\n",
        "\n",
        "# Step 6: Instantiate the Trainer class\n",
        "trainer = Trainer(\n",
        "    model=model,\n",
        "    args=training_args,\n",
        "    train_dataset=train_dataset,\n",
        "    eval_dataset=val_dataset,\n",
        "    tokenizer=tokenizer\n",
        ")\n",
        "\n",
        "# Step 7: Fine-tune the model\n",
        "trainer.train()\n",
        "\n",
        "# Step 8: Evaluate the model\n",
        "trainer.evaluate(test_dataset)"
      ]
    },
    {
      "cell_type": "code",
      "execution_count": 18,
      "metadata": {},
      "outputs": [
        {
          "data": {
            "text/html": [
              "<div>\n",
              "<style scoped>\n",
              "    .dataframe tbody tr th:only-of-type {\n",
              "        vertical-align: middle;\n",
              "    }\n",
              "\n",
              "    .dataframe tbody tr th {\n",
              "        vertical-align: top;\n",
              "    }\n",
              "\n",
              "    .dataframe thead th {\n",
              "        text-align: right;\n",
              "    }\n",
              "</style>\n",
              "<table border=\"1\" class=\"dataframe\">\n",
              "  <thead>\n",
              "    <tr style=\"text-align: right;\">\n",
              "      <th></th>\n",
              "      <th>eval_loss</th>\n",
              "      <th>eval_runtime</th>\n",
              "      <th>eval_samples_per_second</th>\n",
              "      <th>eval_steps_per_second</th>\n",
              "      <th>epoch</th>\n",
              "      <th>step</th>\n",
              "      <th>loss</th>\n",
              "      <th>learning_rate</th>\n",
              "      <th>train_runtime</th>\n",
              "      <th>train_samples_per_second</th>\n",
              "      <th>train_steps_per_second</th>\n",
              "      <th>total_flos</th>\n",
              "      <th>train_loss</th>\n",
              "    </tr>\n",
              "  </thead>\n",
              "  <tbody>\n",
              "    <tr>\n",
              "      <th>0</th>\n",
              "      <td>1.762965</td>\n",
              "      <td>8.8448</td>\n",
              "      <td>305.265</td>\n",
              "      <td>3.053</td>\n",
              "      <td>1.00</td>\n",
              "      <td>126</td>\n",
              "      <td>NaN</td>\n",
              "      <td>NaN</td>\n",
              "      <td>NaN</td>\n",
              "      <td>NaN</td>\n",
              "      <td>NaN</td>\n",
              "      <td>NaN</td>\n",
              "      <td>NaN</td>\n",
              "    </tr>\n",
              "    <tr>\n",
              "      <th>1</th>\n",
              "      <td>1.687341</td>\n",
              "      <td>8.5317</td>\n",
              "      <td>316.466</td>\n",
              "      <td>3.165</td>\n",
              "      <td>2.00</td>\n",
              "      <td>252</td>\n",
              "      <td>NaN</td>\n",
              "      <td>NaN</td>\n",
              "      <td>NaN</td>\n",
              "      <td>NaN</td>\n",
              "      <td>NaN</td>\n",
              "      <td>NaN</td>\n",
              "      <td>NaN</td>\n",
              "    </tr>\n",
              "    <tr>\n",
              "      <th>2</th>\n",
              "      <td>1.492012</td>\n",
              "      <td>8.6709</td>\n",
              "      <td>311.386</td>\n",
              "      <td>3.114</td>\n",
              "      <td>3.00</td>\n",
              "      <td>378</td>\n",
              "      <td>NaN</td>\n",
              "      <td>NaN</td>\n",
              "      <td>NaN</td>\n",
              "      <td>NaN</td>\n",
              "      <td>NaN</td>\n",
              "      <td>NaN</td>\n",
              "      <td>NaN</td>\n",
              "    </tr>\n",
              "    <tr>\n",
              "      <th>3</th>\n",
              "      <td>NaN</td>\n",
              "      <td>NaN</td>\n",
              "      <td>NaN</td>\n",
              "      <td>NaN</td>\n",
              "      <td>3.97</td>\n",
              "      <td>500</td>\n",
              "      <td>1.6652</td>\n",
              "      <td>1.603175e-05</td>\n",
              "      <td>NaN</td>\n",
              "      <td>NaN</td>\n",
              "      <td>NaN</td>\n",
              "      <td>NaN</td>\n",
              "      <td>NaN</td>\n",
              "    </tr>\n",
              "    <tr>\n",
              "      <th>4</th>\n",
              "      <td>1.252133</td>\n",
              "      <td>8.7840</td>\n",
              "      <td>307.376</td>\n",
              "      <td>3.074</td>\n",
              "      <td>4.00</td>\n",
              "      <td>504</td>\n",
              "      <td>NaN</td>\n",
              "      <td>NaN</td>\n",
              "      <td>NaN</td>\n",
              "      <td>NaN</td>\n",
              "      <td>NaN</td>\n",
              "      <td>NaN</td>\n",
              "      <td>NaN</td>\n",
              "    </tr>\n",
              "    <tr>\n",
              "      <th>5</th>\n",
              "      <td>1.073482</td>\n",
              "      <td>8.7125</td>\n",
              "      <td>309.900</td>\n",
              "      <td>3.099</td>\n",
              "      <td>5.00</td>\n",
              "      <td>630</td>\n",
              "      <td>NaN</td>\n",
              "      <td>NaN</td>\n",
              "      <td>NaN</td>\n",
              "      <td>NaN</td>\n",
              "      <td>NaN</td>\n",
              "      <td>NaN</td>\n",
              "      <td>NaN</td>\n",
              "    </tr>\n",
              "    <tr>\n",
              "      <th>6</th>\n",
              "      <td>0.937889</td>\n",
              "      <td>8.7121</td>\n",
              "      <td>309.912</td>\n",
              "      <td>3.099</td>\n",
              "      <td>6.00</td>\n",
              "      <td>756</td>\n",
              "      <td>NaN</td>\n",
              "      <td>NaN</td>\n",
              "      <td>NaN</td>\n",
              "      <td>NaN</td>\n",
              "      <td>NaN</td>\n",
              "      <td>NaN</td>\n",
              "      <td>NaN</td>\n",
              "    </tr>\n",
              "    <tr>\n",
              "      <th>7</th>\n",
              "      <td>0.839819</td>\n",
              "      <td>8.4463</td>\n",
              "      <td>319.667</td>\n",
              "      <td>3.197</td>\n",
              "      <td>7.00</td>\n",
              "      <td>882</td>\n",
              "      <td>NaN</td>\n",
              "      <td>NaN</td>\n",
              "      <td>NaN</td>\n",
              "      <td>NaN</td>\n",
              "      <td>NaN</td>\n",
              "      <td>NaN</td>\n",
              "      <td>NaN</td>\n",
              "    </tr>\n",
              "    <tr>\n",
              "      <th>8</th>\n",
              "      <td>NaN</td>\n",
              "      <td>NaN</td>\n",
              "      <td>NaN</td>\n",
              "      <td>NaN</td>\n",
              "      <td>7.94</td>\n",
              "      <td>1000</td>\n",
              "      <td>1.0576</td>\n",
              "      <td>1.206349e-05</td>\n",
              "      <td>NaN</td>\n",
              "      <td>NaN</td>\n",
              "      <td>NaN</td>\n",
              "      <td>NaN</td>\n",
              "      <td>NaN</td>\n",
              "    </tr>\n",
              "    <tr>\n",
              "      <th>9</th>\n",
              "      <td>0.760761</td>\n",
              "      <td>8.3388</td>\n",
              "      <td>323.786</td>\n",
              "      <td>3.238</td>\n",
              "      <td>8.00</td>\n",
              "      <td>1008</td>\n",
              "      <td>NaN</td>\n",
              "      <td>NaN</td>\n",
              "      <td>NaN</td>\n",
              "      <td>NaN</td>\n",
              "      <td>NaN</td>\n",
              "      <td>NaN</td>\n",
              "      <td>NaN</td>\n",
              "    </tr>\n",
              "    <tr>\n",
              "      <th>10</th>\n",
              "      <td>0.701604</td>\n",
              "      <td>8.6621</td>\n",
              "      <td>311.703</td>\n",
              "      <td>3.117</td>\n",
              "      <td>9.00</td>\n",
              "      <td>1134</td>\n",
              "      <td>NaN</td>\n",
              "      <td>NaN</td>\n",
              "      <td>NaN</td>\n",
              "      <td>NaN</td>\n",
              "      <td>NaN</td>\n",
              "      <td>NaN</td>\n",
              "      <td>NaN</td>\n",
              "    </tr>\n",
              "    <tr>\n",
              "      <th>11</th>\n",
              "      <td>0.650964</td>\n",
              "      <td>8.3577</td>\n",
              "      <td>323.056</td>\n",
              "      <td>3.231</td>\n",
              "      <td>10.00</td>\n",
              "      <td>1260</td>\n",
              "      <td>NaN</td>\n",
              "      <td>NaN</td>\n",
              "      <td>NaN</td>\n",
              "      <td>NaN</td>\n",
              "      <td>NaN</td>\n",
              "      <td>NaN</td>\n",
              "      <td>NaN</td>\n",
              "    </tr>\n",
              "    <tr>\n",
              "      <th>12</th>\n",
              "      <td>0.612807</td>\n",
              "      <td>8.3571</td>\n",
              "      <td>323.080</td>\n",
              "      <td>3.231</td>\n",
              "      <td>11.00</td>\n",
              "      <td>1386</td>\n",
              "      <td>NaN</td>\n",
              "      <td>NaN</td>\n",
              "      <td>NaN</td>\n",
              "      <td>NaN</td>\n",
              "      <td>NaN</td>\n",
              "      <td>NaN</td>\n",
              "      <td>NaN</td>\n",
              "    </tr>\n",
              "    <tr>\n",
              "      <th>13</th>\n",
              "      <td>NaN</td>\n",
              "      <td>NaN</td>\n",
              "      <td>NaN</td>\n",
              "      <td>NaN</td>\n",
              "      <td>11.90</td>\n",
              "      <td>1500</td>\n",
              "      <td>0.7476</td>\n",
              "      <td>8.095238e-06</td>\n",
              "      <td>NaN</td>\n",
              "      <td>NaN</td>\n",
              "      <td>NaN</td>\n",
              "      <td>NaN</td>\n",
              "      <td>NaN</td>\n",
              "    </tr>\n",
              "    <tr>\n",
              "      <th>14</th>\n",
              "      <td>0.580802</td>\n",
              "      <td>8.6403</td>\n",
              "      <td>312.487</td>\n",
              "      <td>3.125</td>\n",
              "      <td>12.00</td>\n",
              "      <td>1512</td>\n",
              "      <td>NaN</td>\n",
              "      <td>NaN</td>\n",
              "      <td>NaN</td>\n",
              "      <td>NaN</td>\n",
              "      <td>NaN</td>\n",
              "      <td>NaN</td>\n",
              "      <td>NaN</td>\n",
              "    </tr>\n",
              "    <tr>\n",
              "      <th>15</th>\n",
              "      <td>0.554037</td>\n",
              "      <td>8.7368</td>\n",
              "      <td>309.038</td>\n",
              "      <td>3.090</td>\n",
              "      <td>13.00</td>\n",
              "      <td>1638</td>\n",
              "      <td>NaN</td>\n",
              "      <td>NaN</td>\n",
              "      <td>NaN</td>\n",
              "      <td>NaN</td>\n",
              "      <td>NaN</td>\n",
              "      <td>NaN</td>\n",
              "      <td>NaN</td>\n",
              "    </tr>\n",
              "    <tr>\n",
              "      <th>16</th>\n",
              "      <td>0.532340</td>\n",
              "      <td>8.4499</td>\n",
              "      <td>319.532</td>\n",
              "      <td>3.195</td>\n",
              "      <td>14.00</td>\n",
              "      <td>1764</td>\n",
              "      <td>NaN</td>\n",
              "      <td>NaN</td>\n",
              "      <td>NaN</td>\n",
              "      <td>NaN</td>\n",
              "      <td>NaN</td>\n",
              "      <td>NaN</td>\n",
              "      <td>NaN</td>\n",
              "    </tr>\n",
              "    <tr>\n",
              "      <th>17</th>\n",
              "      <td>0.513534</td>\n",
              "      <td>8.6408</td>\n",
              "      <td>312.472</td>\n",
              "      <td>3.125</td>\n",
              "      <td>15.00</td>\n",
              "      <td>1890</td>\n",
              "      <td>NaN</td>\n",
              "      <td>NaN</td>\n",
              "      <td>NaN</td>\n",
              "      <td>NaN</td>\n",
              "      <td>NaN</td>\n",
              "      <td>NaN</td>\n",
              "      <td>NaN</td>\n",
              "    </tr>\n",
              "    <tr>\n",
              "      <th>18</th>\n",
              "      <td>NaN</td>\n",
              "      <td>NaN</td>\n",
              "      <td>NaN</td>\n",
              "      <td>NaN</td>\n",
              "      <td>15.87</td>\n",
              "      <td>2000</td>\n",
              "      <td>0.6125</td>\n",
              "      <td>4.126984e-06</td>\n",
              "      <td>NaN</td>\n",
              "      <td>NaN</td>\n",
              "      <td>NaN</td>\n",
              "      <td>NaN</td>\n",
              "      <td>NaN</td>\n",
              "    </tr>\n",
              "    <tr>\n",
              "      <th>19</th>\n",
              "      <td>0.500352</td>\n",
              "      <td>9.0205</td>\n",
              "      <td>299.320</td>\n",
              "      <td>2.993</td>\n",
              "      <td>16.00</td>\n",
              "      <td>2016</td>\n",
              "      <td>NaN</td>\n",
              "      <td>NaN</td>\n",
              "      <td>NaN</td>\n",
              "      <td>NaN</td>\n",
              "      <td>NaN</td>\n",
              "      <td>NaN</td>\n",
              "      <td>NaN</td>\n",
              "    </tr>\n",
              "    <tr>\n",
              "      <th>20</th>\n",
              "      <td>0.489712</td>\n",
              "      <td>8.7961</td>\n",
              "      <td>306.954</td>\n",
              "      <td>3.070</td>\n",
              "      <td>17.00</td>\n",
              "      <td>2142</td>\n",
              "      <td>NaN</td>\n",
              "      <td>NaN</td>\n",
              "      <td>NaN</td>\n",
              "      <td>NaN</td>\n",
              "      <td>NaN</td>\n",
              "      <td>NaN</td>\n",
              "      <td>NaN</td>\n",
              "    </tr>\n",
              "    <tr>\n",
              "      <th>21</th>\n",
              "      <td>0.482288</td>\n",
              "      <td>8.6632</td>\n",
              "      <td>311.663</td>\n",
              "      <td>3.117</td>\n",
              "      <td>18.00</td>\n",
              "      <td>2268</td>\n",
              "      <td>NaN</td>\n",
              "      <td>NaN</td>\n",
              "      <td>NaN</td>\n",
              "      <td>NaN</td>\n",
              "      <td>NaN</td>\n",
              "      <td>NaN</td>\n",
              "      <td>NaN</td>\n",
              "    </tr>\n",
              "    <tr>\n",
              "      <th>22</th>\n",
              "      <td>0.478183</td>\n",
              "      <td>8.7173</td>\n",
              "      <td>309.731</td>\n",
              "      <td>3.097</td>\n",
              "      <td>19.00</td>\n",
              "      <td>2394</td>\n",
              "      <td>NaN</td>\n",
              "      <td>NaN</td>\n",
              "      <td>NaN</td>\n",
              "      <td>NaN</td>\n",
              "      <td>NaN</td>\n",
              "      <td>NaN</td>\n",
              "      <td>NaN</td>\n",
              "    </tr>\n",
              "    <tr>\n",
              "      <th>23</th>\n",
              "      <td>NaN</td>\n",
              "      <td>NaN</td>\n",
              "      <td>NaN</td>\n",
              "      <td>NaN</td>\n",
              "      <td>19.84</td>\n",
              "      <td>2500</td>\n",
              "      <td>0.5589</td>\n",
              "      <td>1.587302e-07</td>\n",
              "      <td>NaN</td>\n",
              "      <td>NaN</td>\n",
              "      <td>NaN</td>\n",
              "      <td>NaN</td>\n",
              "      <td>NaN</td>\n",
              "    </tr>\n",
              "    <tr>\n",
              "      <th>24</th>\n",
              "      <td>0.476968</td>\n",
              "      <td>8.6576</td>\n",
              "      <td>311.865</td>\n",
              "      <td>3.119</td>\n",
              "      <td>20.00</td>\n",
              "      <td>2520</td>\n",
              "      <td>NaN</td>\n",
              "      <td>NaN</td>\n",
              "      <td>NaN</td>\n",
              "      <td>NaN</td>\n",
              "      <td>NaN</td>\n",
              "      <td>NaN</td>\n",
              "      <td>NaN</td>\n",
              "    </tr>\n",
              "    <tr>\n",
              "      <th>25</th>\n",
              "      <td>NaN</td>\n",
              "      <td>NaN</td>\n",
              "      <td>NaN</td>\n",
              "      <td>NaN</td>\n",
              "      <td>20.00</td>\n",
              "      <td>2520</td>\n",
              "      <td>NaN</td>\n",
              "      <td>NaN</td>\n",
              "      <td>3208.3497</td>\n",
              "      <td>78.545</td>\n",
              "      <td>0.785</td>\n",
              "      <td>3.350767e+15</td>\n",
              "      <td>0.925422</td>\n",
              "    </tr>\n",
              "    <tr>\n",
              "      <th>26</th>\n",
              "      <td>1.761282</td>\n",
              "      <td>8.6806</td>\n",
              "      <td>311.037</td>\n",
              "      <td>3.110</td>\n",
              "      <td>20.00</td>\n",
              "      <td>2520</td>\n",
              "      <td>NaN</td>\n",
              "      <td>NaN</td>\n",
              "      <td>NaN</td>\n",
              "      <td>NaN</td>\n",
              "      <td>NaN</td>\n",
              "      <td>NaN</td>\n",
              "      <td>NaN</td>\n",
              "    </tr>\n",
              "  </tbody>\n",
              "</table>\n",
              "</div>"
            ],
            "text/plain": [
              "    eval_loss  eval_runtime  eval_samples_per_second  eval_steps_per_second  \\\n",
              "0    1.762965        8.8448                  305.265                  3.053   \n",
              "1    1.687341        8.5317                  316.466                  3.165   \n",
              "2    1.492012        8.6709                  311.386                  3.114   \n",
              "3         NaN           NaN                      NaN                    NaN   \n",
              "4    1.252133        8.7840                  307.376                  3.074   \n",
              "5    1.073482        8.7125                  309.900                  3.099   \n",
              "6    0.937889        8.7121                  309.912                  3.099   \n",
              "7    0.839819        8.4463                  319.667                  3.197   \n",
              "8         NaN           NaN                      NaN                    NaN   \n",
              "9    0.760761        8.3388                  323.786                  3.238   \n",
              "10   0.701604        8.6621                  311.703                  3.117   \n",
              "11   0.650964        8.3577                  323.056                  3.231   \n",
              "12   0.612807        8.3571                  323.080                  3.231   \n",
              "13        NaN           NaN                      NaN                    NaN   \n",
              "14   0.580802        8.6403                  312.487                  3.125   \n",
              "15   0.554037        8.7368                  309.038                  3.090   \n",
              "16   0.532340        8.4499                  319.532                  3.195   \n",
              "17   0.513534        8.6408                  312.472                  3.125   \n",
              "18        NaN           NaN                      NaN                    NaN   \n",
              "19   0.500352        9.0205                  299.320                  2.993   \n",
              "20   0.489712        8.7961                  306.954                  3.070   \n",
              "21   0.482288        8.6632                  311.663                  3.117   \n",
              "22   0.478183        8.7173                  309.731                  3.097   \n",
              "23        NaN           NaN                      NaN                    NaN   \n",
              "24   0.476968        8.6576                  311.865                  3.119   \n",
              "25        NaN           NaN                      NaN                    NaN   \n",
              "26   1.761282        8.6806                  311.037                  3.110   \n",
              "\n",
              "    epoch  step    loss  learning_rate  train_runtime  \\\n",
              "0    1.00   126     NaN            NaN            NaN   \n",
              "1    2.00   252     NaN            NaN            NaN   \n",
              "2    3.00   378     NaN            NaN            NaN   \n",
              "3    3.97   500  1.6652   1.603175e-05            NaN   \n",
              "4    4.00   504     NaN            NaN            NaN   \n",
              "5    5.00   630     NaN            NaN            NaN   \n",
              "6    6.00   756     NaN            NaN            NaN   \n",
              "7    7.00   882     NaN            NaN            NaN   \n",
              "8    7.94  1000  1.0576   1.206349e-05            NaN   \n",
              "9    8.00  1008     NaN            NaN            NaN   \n",
              "10   9.00  1134     NaN            NaN            NaN   \n",
              "11  10.00  1260     NaN            NaN            NaN   \n",
              "12  11.00  1386     NaN            NaN            NaN   \n",
              "13  11.90  1500  0.7476   8.095238e-06            NaN   \n",
              "14  12.00  1512     NaN            NaN            NaN   \n",
              "15  13.00  1638     NaN            NaN            NaN   \n",
              "16  14.00  1764     NaN            NaN            NaN   \n",
              "17  15.00  1890     NaN            NaN            NaN   \n",
              "18  15.87  2000  0.6125   4.126984e-06            NaN   \n",
              "19  16.00  2016     NaN            NaN            NaN   \n",
              "20  17.00  2142     NaN            NaN            NaN   \n",
              "21  18.00  2268     NaN            NaN            NaN   \n",
              "22  19.00  2394     NaN            NaN            NaN   \n",
              "23  19.84  2500  0.5589   1.587302e-07            NaN   \n",
              "24  20.00  2520     NaN            NaN            NaN   \n",
              "25  20.00  2520     NaN            NaN      3208.3497   \n",
              "26  20.00  2520     NaN            NaN            NaN   \n",
              "\n",
              "    train_samples_per_second  train_steps_per_second    total_flos  train_loss  \n",
              "0                        NaN                     NaN           NaN         NaN  \n",
              "1                        NaN                     NaN           NaN         NaN  \n",
              "2                        NaN                     NaN           NaN         NaN  \n",
              "3                        NaN                     NaN           NaN         NaN  \n",
              "4                        NaN                     NaN           NaN         NaN  \n",
              "5                        NaN                     NaN           NaN         NaN  \n",
              "6                        NaN                     NaN           NaN         NaN  \n",
              "7                        NaN                     NaN           NaN         NaN  \n",
              "8                        NaN                     NaN           NaN         NaN  \n",
              "9                        NaN                     NaN           NaN         NaN  \n",
              "10                       NaN                     NaN           NaN         NaN  \n",
              "11                       NaN                     NaN           NaN         NaN  \n",
              "12                       NaN                     NaN           NaN         NaN  \n",
              "13                       NaN                     NaN           NaN         NaN  \n",
              "14                       NaN                     NaN           NaN         NaN  \n",
              "15                       NaN                     NaN           NaN         NaN  \n",
              "16                       NaN                     NaN           NaN         NaN  \n",
              "17                       NaN                     NaN           NaN         NaN  \n",
              "18                       NaN                     NaN           NaN         NaN  \n",
              "19                       NaN                     NaN           NaN         NaN  \n",
              "20                       NaN                     NaN           NaN         NaN  \n",
              "21                       NaN                     NaN           NaN         NaN  \n",
              "22                       NaN                     NaN           NaN         NaN  \n",
              "23                       NaN                     NaN           NaN         NaN  \n",
              "24                       NaN                     NaN           NaN         NaN  \n",
              "25                    78.545                   0.785  3.350767e+15    0.925422  \n",
              "26                       NaN                     NaN           NaN         NaN  "
            ]
          },
          "execution_count": 18,
          "metadata": {},
          "output_type": "execute_result"
        }
      ],
      "source": [
        "pd.DataFrame(trainer.state.log_history)\n"
      ]
    },
    {
      "cell_type": "code",
      "execution_count": 16,
      "metadata": {},
      "outputs": [
        {
          "name": "stdout",
          "output_type": "stream",
          "text": [
            "5\n",
            "21\n"
          ]
        },
        {
          "data": {
            "image/png": "[encoded data removed]",
            "text/plain": [
              "<Figure size 640x480 with 1 Axes>"
            ]
          },
          "metadata": {},
          "output_type": "display_data"
        }
      ],
      "source": [
        "import matplotlib.pyplot as plt\n",
        "epoch = 20\n",
        "# Extract training and evaluation loss from log history\n",
        "train_losses = [entry[\"loss\"] for entry in trainer.state.log_history if \"loss\" in entry]\n",
        "eval_losses = [entry[\"eval_loss\"] for entry in trainer.state.log_history if \"eval_loss\" in entry]\n",
        "print(len(train_losses))\n",
        "print(len(eval_losses))\n",
        "train_losses = train_losses[0:epoch]\n",
        "eval_losses = eval_losses[0:epoch]\n",
        "\n",
        "# Plotting\n",
        "plt.plot(range(1, len(train_losses) + 1), train_losses, label='Training Loss', color='blue')\n",
        "plt.plot(range(1, len(eval_losses) + 1), eval_losses, label='Evaluation Loss', color='red')\n",
        "plt.xlabel('Epochs')\n",
        "plt.ylabel('Loss')\n",
        "plt.title('Training and Evaluation Loss')\n",
        "plt.legend()\n",
        "plt.show()"
      ]
    },
    {
      "cell_type": "code",
      "execution_count": 19,
      "metadata": {
        "colab": {
          "base_uri": "https://localhost:8080/"
        },
        "id": "bQC_G1kBGvu3",
        "outputId": "5ac9cda2-4942-49d1-a538-7e141c99b494"
      },
      "outputs": [
        {
          "name": "stdout",
          "output_type": "stream",
          "text": [
            "Test Accuracy: 0.2414814829826355\n"
          ]
        }
      ],
      "source": [
        "from torch.utils.data import DataLoader\n",
        "\n",
        "def compute_accuracy(predictions, true_labels):\n",
        "    predicted_labels = torch.argmax(predictions, dim=-1)\n",
        "    accuracy = (predicted_labels == true_labels).float().mean().item()\n",
        "    return accuracy\n",
        "\n",
        "# Define your test dataloader\n",
        "batch_size = 20 # Change batch size as needed\n",
        "test_dataloader = DataLoader(test_dataset, batch_size=batch_size)\n",
        "\n",
        "# Evaluate on the test set\n",
        "predictions = []\n",
        "true_labels = []\n",
        "for batch in test_dataloader:\n",
        "    input_ids = batch['input_ids'].to('mps')\n",
        "    attention_mask = batch['attention_mask'].to('mps')\n",
        "    labels = batch['labels'].to('mps')\n",
        "\n",
        "    with torch.no_grad():\n",
        "        output = model(input_ids=input_ids.squeeze(0), attention_mask=attention_mask.squeeze(0))\n",
        "        predictions.append(output.logits)\n",
        "        true_labels.append(labels)\n",
        "\n",
        "# Concatenate predictions and true labels\n",
        "predictions = torch.cat(predictions, dim=0)\n",
        "true_labels = torch.cat(true_labels, dim=0)\n",
        "\n",
        "# Calculate accuracy\n",
        "accuracy = compute_accuracy(predictions, true_labels)\n",
        "print(\"Test Accuracy:\", accuracy)"
      ]
    }
  ],
  "metadata": {
    "accelerator": "GPU",
    "colab": {
      "gpuType": "T4",
      "provenance": []
    },
    "kernelspec": {
      "display_name": "Python 3",
      "name": "python3"
    },
    "language_info": {
      "codemirror_mode": {
        "name": "ipython",
        "version": 3
      },
      "file_extension": ".py",
      "mimetype": "text/x-python",
      "name": "python",
      "nbconvert_exporter": "python",
      "pygments_lexer": "ipython3",
      "version": "3.11.4"
    }
  },
  "nbformat": 4,
  "nbformat_minor": 0
}
